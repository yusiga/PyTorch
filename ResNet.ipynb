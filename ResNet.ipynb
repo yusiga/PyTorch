{
  "nbformat": 4,
  "nbformat_minor": 0,
  "metadata": {
    "colab": {
      "provenance": [],
      "toc_visible": true
    },
    "kernelspec": {
      "name": "python3",
      "display_name": "Python 3"
    },
    "language_info": {
      "name": "python"
    }
  },
  "cells": [
    {
      "cell_type": "markdown",
      "source": [
        "# ResNet"
      ],
      "metadata": {
        "id": "ja16HcaYSToL"
      }
    },
    {
      "cell_type": "code",
      "execution_count": 1,
      "metadata": {
        "id": "Andh-K_uz78v"
      },
      "outputs": [],
      "source": [
        "import torch.nn as nn\n",
        "import torch"
      ]
    },
    {
      "cell_type": "markdown",
      "source": [
        "## 含有2层卷积层的残差块\n",
        "卷积层中卷积核尺寸为3x3，每层共有64个"
      ],
      "metadata": {
        "id": "pwFlbmInQHRE"
      }
    },
    {
      "cell_type": "code",
      "source": [
        "class BasicBlock(nn.Module):\n",
        "\n",
        "    expansion = 1 # 残差块中卷积层是否保持不变\n",
        "\n",
        "    def __init__(self, in_channel, out_channel, stride=1, downsample=None, **kwargs):\n",
        "        super(BasicBlock, self).__init__()\n",
        "\n",
        "        self.conv1 = nn.Conv2d(in_channels=in_channel, out_channels=out_channel,\n",
        "                               kernel_size=3, stride=stride, padding=1, bias=False)\n",
        "        self.bn1 = nn.BatchNorm2d(out_channel)\n",
        "        self.relu = nn.ReLU()\n",
        "        self.conv2 = nn.Conv2d(in_channels=out_channel, out_channels=out_channel,\n",
        "                               kernel_size=3, stride=1, padding=1, bias=False)\n",
        "        self.bn2 = nn.BatchNorm2d(out_channel)\n",
        "        self.downsample = downsample\n",
        "\n",
        "    def forward(self, x):\n",
        "        identity = x\n",
        "        if self.downsample is not None:\n",
        "            identity = self.downsample(x)\n",
        "\n",
        "        # 卷积层 → BN → ReLU\n",
        "        out = self.conv1(x)\n",
        "        out = self.bn1(out)\n",
        "        out = self.relu(out)\n",
        "\n",
        "        out = self.conv2(out)\n",
        "        out = self.bn2(out)\n",
        "\n",
        "        out += identity\n",
        "        out = self.relu(out)\n",
        "\n",
        "        return out"
      ],
      "metadata": {
        "id": "jZr_osZPQDUN"
      },
      "execution_count": 2,
      "outputs": []
    },
    {
      "cell_type": "markdown",
      "source": [
        "## 含有3层卷积层的残差块\n",
        "各层卷积核配置如下：\n",
        "1. 1x1 64\n",
        "2. 3x3 64\n",
        "3. 1x1 256\n",
        "\n",
        "\n",
        "**注意**：\n",
        "原论文中，第一个1x1卷积层的步距是2，第二个3x3卷积层步距是1。\n",
        "但在pytorch官方实现过程中是第一个1x1卷积层的步距是1，第二个3x3卷积层步距是2。\n",
        "这么做的好处是：**能够在top1上提升大概0.5%的准确率**。\n",
        "\n",
        "可参考Resnet v1.5 https://ngc.nvidia.com/catalog/model-scripts/nvidia:resnet_50_v1_5_for_pytorch\n",
        "\n",
        "    "
      ],
      "metadata": {
        "id": "Byo8BT9gQhQ_"
      }
    },
    {
      "cell_type": "code",
      "source": [
        "class Bottleneck(nn.Module):\n",
        "\n",
        "    expansion = 4 # 残差块中卷积层发生变化，第三层卷积层中卷积核的个数是第一/二层的四倍\n",
        "\n",
        "    # groups 控制分组卷积的组数;\n",
        "    # width_per_group 每组处理的通道数\n",
        "    # 二者为ResNeXt服务\n",
        "    def __init__(self, in_channel, out_channel, stride=1, downsample=None,\n",
        "                 groups=1, width_per_group=64):\n",
        "        super(Bottleneck, self).__init__()\n",
        "\n",
        "        # width计算的是输入通道数经过第一层1x1卷积之后的通道数\n",
        "        width = int(out_channel * (width_per_group / 64.)) * groups\n",
        "\n",
        "        # 第一层卷积层，squeeze channels\n",
        "        self.conv1 = nn.Conv2d(in_channels=in_channel, out_channels=width,\n",
        "                               kernel_size=1, stride=1, bias=False)\n",
        "        self.bn1 = nn.BatchNorm2d(width)\n",
        "\n",
        "        # 第二层卷积层\n",
        "        self.conv2 = nn.Conv2d(in_channels=width, out_channels=width, groups=groups,\n",
        "                               kernel_size=3, stride=stride, bias=False, padding=1)\n",
        "        self.bn2 = nn.BatchNorm2d(width)\n",
        "\n",
        "        # 第三层卷积层，unsqueeze channels\n",
        "        self.conv3 = nn.Conv2d(in_channels=width, out_channels=out_channel*self.expansion,\n",
        "                               kernel_size=1, stride=1, bias=False)\n",
        "        self.bn3 = nn.BatchNorm2d(out_channel*self.expansion)\n",
        "\n",
        "        self.relu = nn.ReLU(inplace=True)\n",
        "        self.downsample = downsample\n",
        "\n",
        "    def forward(self, x):\n",
        "        identity = x\n",
        "        if self.downsample is not None:\n",
        "            identity = self.downsample(x)\n",
        "\n",
        "        out = self.conv1(x)\n",
        "        out = self.bn1(out)\n",
        "        out = self.relu(out)\n",
        "\n",
        "        out = self.conv2(out)\n",
        "        out = self.bn2(out)\n",
        "        out = self.relu(out)\n",
        "\n",
        "        out = self.conv3(out)\n",
        "        out = self.bn3(out)\n",
        "\n",
        "        out += identity\n",
        "        out = self.relu(out)\n",
        "\n",
        "        return out"
      ],
      "metadata": {
        "id": "SPE9UtGrQhpJ"
      },
      "execution_count": 3,
      "outputs": []
    },
    {
      "cell_type": "markdown",
      "source": [
        "## ResNet架构"
      ],
      "metadata": {
        "id": "5RbOK7jFSMHC"
      }
    },
    {
      "cell_type": "code",
      "source": [
        "class ResNet(nn.Module):\n",
        "\n",
        "    def __init__(self,\n",
        "                 block,\n",
        "                 blocks_num,\n",
        "                 num_classes=1000,\n",
        "                 include_top=True,\n",
        "                 groups=1,\n",
        "                 width_per_group=64):\n",
        "        super(ResNet, self).__init__()\n",
        "        self.include_top = include_top\n",
        "        self.in_channel = 64\n",
        "\n",
        "        self.groups = groups\n",
        "        self.width_per_group = width_per_group\n",
        "\n",
        "        self.conv1 = nn.Conv2d(3, self.in_channel, kernel_size=7, stride=2,\n",
        "                               padding=3, bias=False)\n",
        "        self.bn1 = nn.BatchNorm2d(self.in_channel)\n",
        "        self.relu = nn.ReLU(inplace=True)\n",
        "        self.maxpool = nn.MaxPool2d(kernel_size=3, stride=2, padding=1)\n",
        "\n",
        "        # 多个残差块\n",
        "        self.layer1 = self._make_layer(block, 64, blocks_num[0])\n",
        "        self.layer2 = self._make_layer(block, 128, blocks_num[1], stride=2)\n",
        "        self.layer3 = self._make_layer(block, 256, blocks_num[2], stride=2)\n",
        "        self.layer4 = self._make_layer(block, 512, blocks_num[3], stride=2)\n",
        "\n",
        "        if self.include_top:\n",
        "            self.avgpool = nn.AdaptiveAvgPool2d((1, 1))  # output size = (1, 1)\n",
        "            self.fc = nn.Linear(512 * block.expansion, num_classes)\n",
        "\n",
        "        # 对卷积层进行初始化操作\n",
        "        for m in self.modules():\n",
        "            if isinstance(m, nn.Conv2d):\n",
        "                nn.init.kaiming_normal_(m.weight, mode='fan_out', nonlinearity='relu')\n",
        "\n",
        "    # block 采用的残差块类别; channel 第一个卷积层的卷积核个数; stride 步长，判断是否进行降采样\n",
        "    def _make_layer(self, block, channel, block_num, stride=1):\n",
        "        downsample = None\n",
        "        if stride != 1 or self.in_channel != channel * block.expansion:\n",
        "            # 设定对输入x进行处理的卷积层，使x和残差块所拟合出的残差函数维度相同\n",
        "            downsample = nn.Sequential(\n",
        "                nn.Conv2d(self.in_channel, channel * block.expansion, kernel_size=1, stride=stride, bias=False),\n",
        "                nn.BatchNorm2d(channel * block.expansion))\n",
        "\n",
        "        layers = []\n",
        "        layers.append(block(self.in_channel,\n",
        "                            channel,\n",
        "                            downsample=downsample,\n",
        "                            stride=stride,\n",
        "                            groups=self.groups,\n",
        "                            width_per_group=self.width_per_group))\n",
        "        self.in_channel = channel * block.expansion\n",
        "\n",
        "        for _ in range(1, block_num):\n",
        "            layers.append(block(self.in_channel,\n",
        "                                channel,\n",
        "                                groups=self.groups,\n",
        "                                width_per_group=self.width_per_group))\n",
        "\n",
        "        # 返回搭建好的残差网络块\n",
        "        return nn.Sequential(*layers)\n",
        "\n",
        "    def forward(self, x):\n",
        "        x = self.conv1(x)\n",
        "        x = self.bn1(x)\n",
        "        x = self.relu(x)\n",
        "        x = self.maxpool(x)\n",
        "\n",
        "        # 多个残差块\n",
        "        x = self.layer1(x)\n",
        "        x = self.layer2(x)\n",
        "        x = self.layer3(x)\n",
        "        x = self.layer4(x)\n",
        "\n",
        "        if self.include_top:\n",
        "            x = self.avgpool(x)\n",
        "            x = torch.flatten(x, 1) # 将输出展平成一维\n",
        "            x = self.fc(x)\n",
        "\n",
        "        return x"
      ],
      "metadata": {
        "id": "iFb7OOuXSMeS"
      },
      "execution_count": 4,
      "outputs": []
    },
    {
      "cell_type": "markdown",
      "source": [
        "## 具体模型配置\n",
        "论文中提及的ResNet-34/50/101，以及ResNeXt。链接是PyTorch官方训练得到的模型所提供的ResNet参数"
      ],
      "metadata": {
        "id": "AI6sR2XdSci7"
      }
    },
    {
      "cell_type": "code",
      "source": [
        "def resnet34(num_classes=1000, include_top=True):\n",
        "    # https://download.pytorch.org/models/resnet34-333f7ec4.pth\n",
        "    return ResNet(BasicBlock, [3, 4, 6, 3], num_classes=num_classes, include_top=include_top)\n",
        "\n",
        "\n",
        "def resnet50(num_classes=1000, include_top=True):\n",
        "    # https://download.pytorch.org/models/resnet50-19c8e357.pth\n",
        "    return ResNet(Bottleneck, [3, 4, 6, 3], num_classes=num_classes, include_top=include_top)\n",
        "\n",
        "\n",
        "def resnet101(num_classes=1000, include_top=True):\n",
        "    # https://download.pytorch.org/models/resnet101-5d3b4d8f.pth\n",
        "    return ResNet(Bottleneck, [3, 4, 23, 3], num_classes=num_classes, include_top=include_top)\n",
        "\n",
        "\n",
        "def resnext50_32x4d(num_classes=1000, include_top=True):\n",
        "    # https://download.pytorch.org/models/resnext50_32x4d-7cdf4587.pth\n",
        "    groups = 32\n",
        "    width_per_group = 4\n",
        "    return ResNet(Bottleneck, [3, 4, 6, 3],\n",
        "                  num_classes=num_classes,\n",
        "                  include_top=include_top,\n",
        "                  groups=groups,\n",
        "                  width_per_group=width_per_group)\n",
        "\n",
        "\n",
        "def resnext101_32x8d(num_classes=1000, include_top=True):\n",
        "    # https://download.pytorch.org/models/resnext101_32x8d-8ba56ff5.pth\n",
        "    groups = 32\n",
        "    width_per_group = 8\n",
        "    return ResNet(Bottleneck, [3, 4, 23, 3],\n",
        "                  num_classes=num_classes,\n",
        "                  include_top=include_top,\n",
        "                  groups=groups,\n",
        "                  width_per_group=width_per_group)"
      ],
      "metadata": {
        "id": "9qV7Suo1Sjhe"
      },
      "execution_count": 5,
      "outputs": []
    }
  ]
}